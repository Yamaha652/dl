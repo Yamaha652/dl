{
  "metadata": {
    "kernelspec": {
      "language": "python",
      "display_name": "Python 3",
      "name": "python3"
    },
    "language_info": {
      "pygments_lexer": "ipython3",
      "nbconvert_exporter": "python",
      "version": "3.6.4",
      "file_extension": ".py",
      "codemirror_mode": {
        "name": "ipython",
        "version": 3
      },
      "name": "python",
      "mimetype": "text/x-python"
    },
    "colab": {
      "provenance": [],
      "include_colab_link": true
    }
  },
  "nbformat_minor": 0,
  "nbformat": 4,
  "cells": [
    {
      "cell_type": "markdown",
      "metadata": {
        "id": "view-in-github",
        "colab_type": "text"
      },
      "source": [
        "<a href=\"https://colab.research.google.com/github/Yamaha652/dl/blob/main/acel.ipynb\" target=\"_parent\"><img src=\"https://colab.research.google.com/assets/colab-badge.svg\" alt=\"Open In Colab\"/></a>"
      ]
    },
    {
      "cell_type": "markdown",
      "source": [
        "## Import Library"
      ],
      "metadata": {
        "id": "Gk6iqHjQq3dB"
      }
    },
    {
      "cell_type": "code",
      "source": [
        "from google.colab import drive\n",
        "drive.mount('/content/drive')"
      ],
      "metadata": {
        "colab": {
          "base_uri": "https://localhost:8080/"
        },
        "id": "w9DTWwenrsAu",
        "outputId": "e0e1cbcd-f834-44c3-e8a9-d98252a540cd"
      },
      "execution_count": null,
      "outputs": [
        {
          "output_type": "stream",
          "name": "stdout",
          "text": [
            "Mounted at /content/drive\n"
          ]
        }
      ]
    },
    {
      "cell_type": "code",
      "source": [
        "import pandas as pd\n",
        "import numpy as np\n",
        "import datetime as dt\n",
        "import os\n",
        "import os.path\n",
        "from pathlib import Path\n",
        "import glob\n",
        "import cv2\n",
        "import matplotlib.pyplot as plt\n",
        "import seaborn as sns\n",
        "from sklearn.model_selection import train_test_split\n",
        "from sklearn.preprocessing import LabelEncoder\n",
        "from tensorflow.keras.preprocessing.image import ImageDataGenerator, img_to_array, load_img\n",
        "from tensorflow.keras.callbacks import EarlyStopping\n",
        "from tensorflow.keras.models import Sequential\n",
        "from tensorflow.keras.layers import Conv2D, MaxPooling2D, Dropout, Flatten, Dense, BatchNormalization, GlobalAveragePooling2D, SpatialDropout2D\n",
        "from tensorflow.keras import layers\n",
        "from tensorflow.keras.applications.inception_v3 import InceptionV3\n",
        "from tensorflow.keras.applications.xception import Xception\n",
        "from tensorflow.keras.applications.vgg16 import VGG16\n",
        "from tensorflow.keras.applications.mobilenet import MobileNet\n",
        "from tensorflow.keras.optimizers import RMSprop\n",
        "from tensorflow.keras.models import Model\n",
        "from tensorflow.keras.utils import plot_model\n",
        "from sklearn.metrics import confusion_matrix, classification_report, recall_score, precision_score, f1_score, roc_auc_score, roc_curve\n",
        "from tensorflow.keras.preprocessing import image\n",
        "from PIL import Image"
      ],
      "metadata": {
        "_uuid": "8f2839f25d086af736a60e9eeb907d3b93b6e0e5",
        "_cell_guid": "b1076dfc-b9ad-4769-8c92-a6c4dae69d19",
        "execution": {
          "iopub.status.busy": "2021-12-22T00:55:30.757841Z",
          "iopub.execute_input": "2021-12-22T00:55:30.758367Z",
          "iopub.status.idle": "2021-12-22T00:55:38.762515Z",
          "shell.execute_reply.started": "2021-12-22T00:55:30.758246Z",
          "shell.execute_reply": "2021-12-22T00:55:38.761549Z"
        },
        "trusted": true,
        "id": "AKCpF9zfq3dC"
      },
      "execution_count": null,
      "outputs": []
    },
    {
      "cell_type": "markdown",
      "source": [
        "## Mapping Dataset"
      ],
      "metadata": {
        "id": "kTJ3s0xpq3dE"
      }
    },
    {
      "cell_type": "code",
      "source": [
        "# Selecting Dataset Folder Paths\n",
        "f_dir_ = Path('/content/drive/My Drive/dataset/limapuluh/')\n",
        "m_dir_ = Path('/content/drive/My Drive/dataset/seratus/')\n",
        "femaleeyes_filepaths = list(f_dir_.glob(r'**/*.png'))\n",
        "maleeyes_filepaths = list(m_dir_.glob(r'**/*.png'))\n",
        "\n",
        "# Mapping the labels\n",
        "fm_labels = list(map(lambda x: os.path.split(os.path.split(x)[0])[1], femaleeyes_filepaths))\n",
        "ml_labels = list(map(lambda x: os.path.split(os.path.split(x)[0])[1], maleeyes_filepaths))\n",
        "\n",
        "# Paths & labels femalee eyes\n",
        "fm_filepaths = pd.Series(femaleeyes_filepaths, name = 'File').astype(str)\n",
        "fm_labels = pd.Series(fm_labels, name='Label')\n",
        "\n",
        "# Paths & labels malee eyes\n",
        "ml_filepaths = pd.Series(maleeyes_filepaths, name = 'File').astype(str)\n",
        "ml_labels = pd.Series(ml_labels, name='Label')\n",
        "\n",
        "# Concatenating...\n",
        "femaleeyes_df = pd.concat([fm_filepaths, fm_labels], axis=1)\n",
        "maleeyes_df = pd.concat([ml_filepaths, ml_labels], axis=1)\n",
        "\n",
        "df = pd.concat([femaleeyes_df, maleeyes_df])\n",
        "\n",
        "df = df.sample(frac = 1, random_state = 56).reset_index(drop = True)"
      ],
      "metadata": {
        "execution": {
          "iopub.status.busy": "2021-12-22T00:55:38.764138Z",
          "iopub.execute_input": "2021-12-22T00:55:38.764494Z",
          "iopub.status.idle": "2021-12-22T00:56:05.406199Z",
          "shell.execute_reply.started": "2021-12-22T00:55:38.764457Z",
          "shell.execute_reply": "2021-12-22T00:56:05.405304Z"
        },
        "trusted": true,
        "id": "yh6medziq3dE"
      },
      "execution_count": null,
      "outputs": []
    },
    {
      "cell_type": "code",
      "source": [
        "plt.style.use(\"seaborn-white\")"
      ],
      "metadata": {
        "execution": {
          "iopub.status.busy": "2021-12-22T00:56:05.408182Z",
          "iopub.execute_input": "2021-12-22T00:56:05.40865Z",
          "iopub.status.idle": "2021-12-22T00:56:05.41293Z",
          "shell.execute_reply.started": "2021-12-22T00:56:05.408595Z",
          "shell.execute_reply": "2021-12-22T00:56:05.412165Z"
        },
        "trusted": true,
        "colab": {
          "base_uri": "https://localhost:8080/"
        },
        "id": "JIkYm4zQq3dF",
        "outputId": "c610fd0c-bdda-4af2-9422-5c4988c3e7ce"
      },
      "execution_count": null,
      "outputs": [
        {
          "output_type": "stream",
          "name": "stderr",
          "text": [
            "<ipython-input-24-41a971457199>:1: MatplotlibDeprecationWarning: The seaborn styles shipped by Matplotlib are deprecated since 3.6, as they no longer correspond to the styles shipped by seaborn. However, they will remain available as 'seaborn-v0_8-<style>'. Alternatively, directly use the seaborn API instead.\n",
            "  plt.style.use(\"seaborn-white\")\n"
          ]
        }
      ]
    },
    {
      "cell_type": "code",
      "source": [
        "vc = df['Label'].value_counts()\n",
        "plt.figure(figsize = (9, 5))\n",
        "sns.barplot(x = vc.index, y = vc)\n",
        "plt.title(\"Number of images for each category in the Training Dataset\", fontsize = 11)\n",
        "plt.show()"
      ],
      "metadata": {
        "colab": {
          "base_uri": "https://localhost:8080/",
          "height": 479
        },
        "id": "Fd52Ifo0u3ZA",
        "outputId": "7f696547-cec4-49bc-eb60-5c3b98613909"
      },
      "execution_count": null,
      "outputs": [
        {
          "output_type": "display_data",
          "data": {
            "text/plain": [
              "<Figure size 900x500 with 1 Axes>"
            ],
            "image/png": "[encoded data removed]"
          },
          "metadata": {}
        }
      ]
    },
    {
      "cell_type": "markdown",
      "source": [
        "## Observing Dataset"
      ],
      "metadata": {
        "id": "u3a2LvRGq3dF"
      }
    },
    {
      "cell_type": "markdown",
      "source": [
        "## Split Dataset"
      ],
      "metadata": {
        "id": "KtqccRZ0q3dG"
      }
    },
    {
      "cell_type": "code",
      "source": [
        "trainset_df, testset_df = train_test_split(df, train_size = 0.75, random_state = 4)\n",
        "\n",
        "display(trainset_df.head())\n",
        "\n",
        "testset_df.head()"
      ],
      "metadata": {
        "execution": {
          "iopub.status.busy": "2021-12-22T00:56:07.552041Z",
          "iopub.execute_input": "2021-12-22T00:56:07.552329Z",
          "iopub.status.idle": "2021-12-22T00:56:07.581235Z",
          "shell.execute_reply.started": "2021-12-22T00:56:07.552302Z",
          "shell.execute_reply": "2021-12-22T00:56:07.579677Z"
        },
        "trusted": true,
        "id": "lN6PYtoLq3dG",
        "colab": {
          "base_uri": "https://localhost:8080/",
          "height": 395
        },
        "outputId": "d8cd997d-b3a1-4bd1-df3e-f1339758f424"
      },
      "execution_count": null,
      "outputs": [
        {
          "output_type": "display_data",
          "data": {
            "text/plain": [
              "                                                  File      Label\n",
              "222  /content/drive/My Drive/dataset/seratus/IMG_53...    seratus\n",
              "143  /content/drive/My Drive/dataset/limapuluh/IMG_...  limapuluh\n",
              "6    /content/drive/My Drive/dataset/seratus/IMG_53...    seratus\n",
              "138  /content/drive/My Drive/dataset/limapuluh/IMG_...  limapuluh\n",
              "26   /content/drive/My Drive/dataset/limapuluh/IMG_...  limapuluh"
            ],
            "text/html": [
              "\n",
              "  <div id=\"df-08daa4aa-4a63-4833-a6fb-1c918e79035e\" class=\"colab-df-container\">\n",
              "    <div>\n",
              "<style scoped>\n",
              "    .dataframe tbody tr th:only-of-type {\n",
              "        vertical-align: middle;\n",
              "    }\n",
              "\n",
              "    .dataframe tbody tr th {\n",
              "        vertical-align: top;\n",
              "    }\n",
              "\n",
              "    .dataframe thead th {\n",
              "        text-align: right;\n",
              "    }\n",
              "</style>\n",
              "<table border=\"1\" class=\"dataframe\">\n",
              "  <thead>\n",
              "    <tr style=\"text-align: right;\">\n",
              "      <th></th>\n",
              "      <th>File</th>\n",
              "      <th>Label</th>\n",
              "    </tr>\n",
              "  </thead>\n",
              "  <tbody>\n",
              "    <tr>\n",
              "      <th>222</th>\n",
              "      <td>/content/drive/My Drive/dataset/seratus/IMG_53...</td>\n",
              "      <td>seratus</td>\n",
              "    </tr>\n",
              "    <tr>\n",
              "      <th>143</th>\n",
              "      <td>/content/drive/My Drive/dataset/limapuluh/IMG_...</td>\n",
              "      <td>limapuluh</td>\n",
              "    </tr>\n",
              "    <tr>\n",
              "      <th>6</th>\n",
              "      <td>/content/drive/My Drive/dataset/seratus/IMG_53...</td>\n",
              "      <td>seratus</td>\n",
              "    </tr>\n",
              "    <tr>\n",
              "      <th>138</th>\n",
              "      <td>/content/drive/My Drive/dataset/limapuluh/IMG_...</td>\n",
              "      <td>limapuluh</td>\n",
              "    </tr>\n",
              "    <tr>\n",
              "      <th>26</th>\n",
              "      <td>/content/drive/My Drive/dataset/limapuluh/IMG_...</td>\n",
              "      <td>limapuluh</td>\n",
              "    </tr>\n",
              "  </tbody>\n",
              "</table>\n",
              "</div>\n",
              "    <div class=\"colab-df-buttons\">\n",
              "\n",
              "  <div class=\"colab-df-container\">\n",
              "    <button class=\"colab-df-convert\" onclick=\"convertToInteractive('df-08daa4aa-4a63-4833-a6fb-1c918e79035e')\"\n",
              "            title=\"Convert this dataframe to an interactive table.\"\n",
              "            style=\"display:none;\">\n",
              "\n",
              "  <svg xmlns=\"http://www.w3.org/2000/svg\" height=\"24px\" viewBox=\"0 -960 960 960\">\n",
              "    <path d=\"M120-120v-720h720v720H120Zm60-500h600v-160H180v160Zm220 220h160v-160H400v160Zm0 220h160v-160H400v160ZM180-400h160v-160H180v160Zm440 0h160v-160H620v160ZM180-180h160v-160H180v160Zm440 0h160v-160H620v160Z\"/>\n",
              "  </svg>\n",
              "    </button>\n",
              "\n",
              "  <style>\n",
              "    .colab-df-container {\n",
              "      display:flex;\n",
              "      gap: 12px;\n",
              "    }\n",
              "\n",
              "    .colab-df-convert {\n",
              "      background-color: #E8F0FE;\n",
              "      border: none;\n",
              "      border-radius: 50%;\n",
              "      cursor: pointer;\n",
              "      display: none;\n",
              "      fill: #1967D2;\n",
              "      height: 32px;\n",
              "      padding: 0 0 0 0;\n",
              "      width: 32px;\n",
              "    }\n",
              "\n",
              "    .colab-df-convert:hover {\n",
              "      background-color: #E2EBFA;\n",
              "      box-shadow: 0px 1px 2px rgba(60, 64, 67, 0.3), 0px 1px 3px 1px rgba(60, 64, 67, 0.15);\n",
              "      fill: #174EA6;\n",
              "    }\n",
              "\n",
              "    .colab-df-buttons div {\n",
              "      margin-bottom: 4px;\n",
              "    }\n",
              "\n",
              "    [theme=dark] .colab-df-convert {\n",
              "      background-color: #3B4455;\n",
              "      fill: #D2E3FC;\n",
              "    }\n",
              "\n",
              "    [theme=dark] .colab-df-convert:hover {\n",
              "      background-color: #434B5C;\n",
              "      box-shadow: 0px 1px 3px 1px rgba(0, 0, 0, 0.15);\n",
              "      filter: drop-shadow(0px 1px 2px rgba(0, 0, 0, 0.3));\n",
              "      fill: #FFFFFF;\n",
              "    }\n",
              "  </style>\n",
              "\n",
              "    <script>\n",
              "      const buttonEl =\n",
              "        document.querySelector('#df-08daa4aa-4a63-4833-a6fb-1c918e79035e button.colab-df-convert');\n",
              "      buttonEl.style.display =\n",
              "        google.colab.kernel.accessAllowed ? 'block' : 'none';\n",
              "\n",
              "      async function convertToInteractive(key) {\n",
              "        const element = document.querySelector('#df-08daa4aa-4a63-4833-a6fb-1c918e79035e');\n",
              "        const dataTable =\n",
              "          await google.colab.kernel.invokeFunction('convertToInteractive',\n",
              "                                                    [key], {});\n",
              "        if (!dataTable) return;\n",
              "\n",
              "        const docLinkHtml = 'Like what you see? Visit the ' +\n",
              "          '<a target=\"_blank\" href=https://colab.research.google.com/notebooks/data_table.ipynb>data table notebook</a>'\n",
              "          + ' to learn more about interactive tables.';\n",
              "        element.innerHTML = '';\n",
              "        dataTable['output_type'] = 'display_data';\n",
              "        await google.colab.output.renderOutput(dataTable, element);\n",
              "        const docLink = document.createElement('div');\n",
              "        docLink.innerHTML = docLinkHtml;\n",
              "        element.appendChild(docLink);\n",
              "      }\n",
              "    </script>\n",
              "  </div>\n",
              "\n",
              "\n",
              "<div id=\"df-12c750de-766c-488e-a2b1-d6afc025b3a6\">\n",
              "  <button class=\"colab-df-quickchart\" onclick=\"quickchart('df-12c750de-766c-488e-a2b1-d6afc025b3a6')\"\n",
              "            title=\"Suggest charts\"\n",
              "            style=\"display:none;\">\n",
              "\n",
              "<svg xmlns=\"http://www.w3.org/2000/svg\" height=\"24px\"viewBox=\"0 0 24 24\"\n",
              "     width=\"24px\">\n",
              "    <g>\n",
              "        <path d=\"M19 3H5c-1.1 0-2 .9-2 2v14c0 1.1.9 2 2 2h14c1.1 0 2-.9 2-2V5c0-1.1-.9-2-2-2zM9 17H7v-7h2v7zm4 0h-2V7h2v10zm4 0h-2v-4h2v4z\"/>\n",
              "    </g>\n",
              "</svg>\n",
              "  </button>\n",
              "\n",
              "<style>\n",
              "  .colab-df-quickchart {\n",
              "      --bg-color: #E8F0FE;\n",
              "      --fill-color: #1967D2;\n",
              "      --hover-bg-color: #E2EBFA;\n",
              "      --hover-fill-color: #174EA6;\n",
              "      --disabled-fill-color: #AAA;\n",
              "      --disabled-bg-color: #DDD;\n",
              "  }\n",
              "\n",
              "  [theme=dark] .colab-df-quickchart {\n",
              "      --bg-color: #3B4455;\n",
              "      --fill-color: #D2E3FC;\n",
              "      --hover-bg-color: #434B5C;\n",
              "      --hover-fill-color: #FFFFFF;\n",
              "      --disabled-bg-color: #3B4455;\n",
              "      --disabled-fill-color: #666;\n",
              "  }\n",
              "\n",
              "  .colab-df-quickchart {\n",
              "    background-color: var(--bg-color);\n",
              "    border: none;\n",
              "    border-radius: 50%;\n",
              "    cursor: pointer;\n",
              "    display: none;\n",
              "    fill: var(--fill-color);\n",
              "    height: 32px;\n",
              "    padding: 0;\n",
              "    width: 32px;\n",
              "  }\n",
              "\n",
              "  .colab-df-quickchart:hover {\n",
              "    background-color: var(--hover-bg-color);\n",
              "    box-shadow: 0 1px 2px rgba(60, 64, 67, 0.3), 0 1px 3px 1px rgba(60, 64, 67, 0.15);\n",
              "    fill: var(--button-hover-fill-color);\n",
              "  }\n",
              "\n",
              "  .colab-df-quickchart-complete:disabled,\n",
              "  .colab-df-quickchart-complete:disabled:hover {\n",
              "    background-color: var(--disabled-bg-color);\n",
              "    fill: var(--disabled-fill-color);\n",
              "    box-shadow: none;\n",
              "  }\n",
              "\n",
              "  .colab-df-spinner {\n",
              "    border: 2px solid var(--fill-color);\n",
              "    border-color: transparent;\n",
              "    border-bottom-color: var(--fill-color);\n",
              "    animation:\n",
              "      spin 1s steps(1) infinite;\n",
              "  }\n",
              "\n",
              "  @keyframes spin {\n",
              "    0% {\n",
              "      border-color: transparent;\n",
              "      border-bottom-color: var(--fill-color);\n",
              "      border-left-color: var(--fill-color);\n",
              "    }\n",
              "    20% {\n",
              "      border-color: transparent;\n",
              "      border-left-color: var(--fill-color);\n",
              "      border-top-color: var(--fill-color);\n",
              "    }\n",
              "    30% {\n",
              "      border-color: transparent;\n",
              "      border-left-color: var(--fill-color);\n",
              "      border-top-color: var(--fill-color);\n",
              "      border-right-color: var(--fill-color);\n",
              "    }\n",
              "    40% {\n",
              "      border-color: transparent;\n",
              "      border-right-color: var(--fill-color);\n",
              "      border-top-color: var(--fill-color);\n",
              "    }\n",
              "    60% {\n",
              "      border-color: transparent;\n",
              "      border-right-color: var(--fill-color);\n",
              "    }\n",
              "    80% {\n",
              "      border-color: transparent;\n",
              "      border-right-color: var(--fill-color);\n",
              "      border-bottom-color: var(--fill-color);\n",
              "    }\n",
              "    90% {\n",
              "      border-color: transparent;\n",
              "      border-bottom-color: var(--fill-color);\n",
              "    }\n",
              "  }\n",
              "</style>\n",
              "\n",
              "  <script>\n",
              "    async function quickchart(key) {\n",
              "      const quickchartButtonEl =\n",
              "        document.querySelector('#' + key + ' button');\n",
              "      quickchartButtonEl.disabled = true;  // To prevent multiple clicks.\n",
              "      quickchartButtonEl.classList.add('colab-df-spinner');\n",
              "      try {\n",
              "        const charts = await google.colab.kernel.invokeFunction(\n",
              "            'suggestCharts', [key], {});\n",
              "      } catch (error) {\n",
              "        console.error('Error during call to suggestCharts:', error);\n",
              "      }\n",
              "      quickchartButtonEl.classList.remove('colab-df-spinner');\n",
              "      quickchartButtonEl.classList.add('colab-df-quickchart-complete');\n",
              "    }\n",
              "    (() => {\n",
              "      let quickchartButtonEl =\n",
              "        document.querySelector('#df-12c750de-766c-488e-a2b1-d6afc025b3a6 button');\n",
              "      quickchartButtonEl.style.display =\n",
              "        google.colab.kernel.accessAllowed ? 'block' : 'none';\n",
              "    })();\n",
              "  </script>\n",
              "</div>\n",
              "    </div>\n",
              "  </div>\n"
            ],
            "application/vnd.google.colaboratory.intrinsic+json": {
              "type": "dataframe",
              "variable_name": "testset_df",
              "summary": "{\n  \"name\": \"testset_df\",\n  \"rows\": 60,\n  \"fields\": [\n    {\n      \"column\": \"File\",\n      \"properties\": {\n        \"dtype\": \"string\",\n        \"num_unique_values\": 60,\n        \"samples\": [\n          \"/content/drive/My Drive/dataset/limapuluh/IMG_5445.png\",\n          \"/content/drive/My Drive/dataset/seratus/IMG_5366.png\",\n          \"/content/drive/My Drive/dataset/limapuluh/IMG_5471.png\"\n        ],\n        \"semantic_type\": \"\",\n        \"description\": \"\"\n      }\n    },\n    {\n      \"column\": \"Label\",\n      \"properties\": {\n        \"dtype\": \"category\",\n        \"num_unique_values\": 2,\n        \"samples\": [\n          \"seratus\",\n          \"limapuluh\"\n        ],\n        \"semantic_type\": \"\",\n        \"description\": \"\"\n      }\n    }\n  ]\n}"
            }
          },
          "metadata": {}
        },
        {
          "output_type": "execute_result",
          "data": {
            "text/plain": [
              "                                                  File      Label\n",
              "198  /content/drive/My Drive/dataset/limapuluh/IMG_...  limapuluh\n",
              "90   /content/drive/My Drive/dataset/limapuluh/IMG_...  limapuluh\n",
              "89   /content/drive/My Drive/dataset/limapuluh/IMG_...  limapuluh\n",
              "91   /content/drive/My Drive/dataset/seratus/IMG_53...    seratus\n",
              "68   /content/drive/My Drive/dataset/seratus/IMG_53...    seratus"
            ],
            "text/html": [
              "\n",
              "  <div id=\"df-62ad0660-6166-405e-a0a9-9f5bb56751cd\" class=\"colab-df-container\">\n",
              "    <div>\n",
              "<style scoped>\n",
              "    .dataframe tbody tr th:only-of-type {\n",
              "        vertical-align: middle;\n",
              "    }\n",
              "\n",
              "    .dataframe tbody tr th {\n",
              "        vertical-align: top;\n",
              "    }\n",
              "\n",
              "    .dataframe thead th {\n",
              "        text-align: right;\n",
              "    }\n",
              "</style>\n",
              "<table border=\"1\" class=\"dataframe\">\n",
              "  <thead>\n",
              "    <tr style=\"text-align: right;\">\n",
              "      <th></th>\n",
              "      <th>File</th>\n",
              "      <th>Label</th>\n",
              "    </tr>\n",
              "  </thead>\n",
              "  <tbody>\n",
              "    <tr>\n",
              "      <th>198</th>\n",
              "      <td>/content/drive/My Drive/dataset/limapuluh/IMG_...</td>\n",
              "      <td>limapuluh</td>\n",
              "    </tr>\n",
              "    <tr>\n",
              "      <th>90</th>\n",
              "      <td>/content/drive/My Drive/dataset/limapuluh/IMG_...</td>\n",
              "      <td>limapuluh</td>\n",
              "    </tr>\n",
              "    <tr>\n",
              "      <th>89</th>\n",
              "      <td>/content/drive/My Drive/dataset/limapuluh/IMG_...</td>\n",
              "      <td>limapuluh</td>\n",
              "    </tr>\n",
              "    <tr>\n",
              "      <th>91</th>\n",
              "      <td>/content/drive/My Drive/dataset/seratus/IMG_53...</td>\n",
              "      <td>seratus</td>\n",
              "    </tr>\n",
              "    <tr>\n",
              "      <th>68</th>\n",
              "      <td>/content/drive/My Drive/dataset/seratus/IMG_53...</td>\n",
              "      <td>seratus</td>\n",
              "    </tr>\n",
              "  </tbody>\n",
              "</table>\n",
              "</div>\n",
              "    <div class=\"colab-df-buttons\">\n",
              "\n",
              "  <div class=\"colab-df-container\">\n",
              "    <button class=\"colab-df-convert\" onclick=\"convertToInteractive('df-62ad0660-6166-405e-a0a9-9f5bb56751cd')\"\n",
              "            title=\"Convert this dataframe to an interactive table.\"\n",
              "            style=\"display:none;\">\n",
              "\n",
              "  <svg xmlns=\"http://www.w3.org/2000/svg\" height=\"24px\" viewBox=\"0 -960 960 960\">\n",
              "    <path d=\"M120-120v-720h720v720H120Zm60-500h600v-160H180v160Zm220 220h160v-160H400v160Zm0 220h160v-160H400v160ZM180-400h160v-160H180v160Zm440 0h160v-160H620v160ZM180-180h160v-160H180v160Zm440 0h160v-160H620v160Z\"/>\n",
              "  </svg>\n",
              "    </button>\n",
              "\n",
              "  <style>\n",
              "    .colab-df-container {\n",
              "      display:flex;\n",
              "      gap: 12px;\n",
              "    }\n",
              "\n",
              "    .colab-df-convert {\n",
              "      background-color: #E8F0FE;\n",
              "      border: none;\n",
              "      border-radius: 50%;\n",
              "      cursor: pointer;\n",
              "      display: none;\n",
              "      fill: #1967D2;\n",
              "      height: 32px;\n",
              "      padding: 0 0 0 0;\n",
              "      width: 32px;\n",
              "    }\n",
              "\n",
              "    .colab-df-convert:hover {\n",
              "      background-color: #E2EBFA;\n",
              "      box-shadow: 0px 1px 2px rgba(60, 64, 67, 0.3), 0px 1px 3px 1px rgba(60, 64, 67, 0.15);\n",
              "      fill: #174EA6;\n",
              "    }\n",
              "\n",
              "    .colab-df-buttons div {\n",
              "      margin-bottom: 4px;\n",
              "    }\n",
              "\n",
              "    [theme=dark] .colab-df-convert {\n",
              "      background-color: #3B4455;\n",
              "      fill: #D2E3FC;\n",
              "    }\n",
              "\n",
              "    [theme=dark] .colab-df-convert:hover {\n",
              "      background-color: #434B5C;\n",
              "      box-shadow: 0px 1px 3px 1px rgba(0, 0, 0, 0.15);\n",
              "      filter: drop-shadow(0px 1px 2px rgba(0, 0, 0, 0.3));\n",
              "      fill: #FFFFFF;\n",
              "    }\n",
              "  </style>\n",
              "\n",
              "    <script>\n",
              "      const buttonEl =\n",
              "        document.querySelector('#df-62ad0660-6166-405e-a0a9-9f5bb56751cd button.colab-df-convert');\n",
              "      buttonEl.style.display =\n",
              "        google.colab.kernel.accessAllowed ? 'block' : 'none';\n",
              "\n",
              "      async function convertToInteractive(key) {\n",
              "        const element = document.querySelector('#df-62ad0660-6166-405e-a0a9-9f5bb56751cd');\n",
              "        const dataTable =\n",
              "          await google.colab.kernel.invokeFunction('convertToInteractive',\n",
              "                                                    [key], {});\n",
              "        if (!dataTable) return;\n",
              "\n",
              "        const docLinkHtml = 'Like what you see? Visit the ' +\n",
              "          '<a target=\"_blank\" href=https://colab.research.google.com/notebooks/data_table.ipynb>data table notebook</a>'\n",
              "          + ' to learn more about interactive tables.';\n",
              "        element.innerHTML = '';\n",
              "        dataTable['output_type'] = 'display_data';\n",
              "        await google.colab.output.renderOutput(dataTable, element);\n",
              "        const docLink = document.createElement('div');\n",
              "        docLink.innerHTML = docLinkHtml;\n",
              "        element.appendChild(docLink);\n",
              "      }\n",
              "    </script>\n",
              "  </div>\n",
              "\n",
              "\n",
              "<div id=\"df-c3f16a4b-9ce7-4ad8-907e-b70f4eeef6ad\">\n",
              "  <button class=\"colab-df-quickchart\" onclick=\"quickchart('df-c3f16a4b-9ce7-4ad8-907e-b70f4eeef6ad')\"\n",
              "            title=\"Suggest charts\"\n",
              "            style=\"display:none;\">\n",
              "\n",
              "<svg xmlns=\"http://www.w3.org/2000/svg\" height=\"24px\"viewBox=\"0 0 24 24\"\n",
              "     width=\"24px\">\n",
              "    <g>\n",
              "        <path d=\"M19 3H5c-1.1 0-2 .9-2 2v14c0 1.1.9 2 2 2h14c1.1 0 2-.9 2-2V5c0-1.1-.9-2-2-2zM9 17H7v-7h2v7zm4 0h-2V7h2v10zm4 0h-2v-4h2v4z\"/>\n",
              "    </g>\n",
              "</svg>\n",
              "  </button>\n",
              "\n",
              "<style>\n",
              "  .colab-df-quickchart {\n",
              "      --bg-color: #E8F0FE;\n",
              "      --fill-color: #1967D2;\n",
              "      --hover-bg-color: #E2EBFA;\n",
              "      --hover-fill-color: #174EA6;\n",
              "      --disabled-fill-color: #AAA;\n",
              "      --disabled-bg-color: #DDD;\n",
              "  }\n",
              "\n",
              "  [theme=dark] .colab-df-quickchart {\n",
              "      --bg-color: #3B4455;\n",
              "      --fill-color: #D2E3FC;\n",
              "      --hover-bg-color: #434B5C;\n",
              "      --hover-fill-color: #FFFFFF;\n",
              "      --disabled-bg-color: #3B4455;\n",
              "      --disabled-fill-color: #666;\n",
              "  }\n",
              "\n",
              "  .colab-df-quickchart {\n",
              "    background-color: var(--bg-color);\n",
              "    border: none;\n",
              "    border-radius: 50%;\n",
              "    cursor: pointer;\n",
              "    display: none;\n",
              "    fill: var(--fill-color);\n",
              "    height: 32px;\n",
              "    padding: 0;\n",
              "    width: 32px;\n",
              "  }\n",
              "\n",
              "  .colab-df-quickchart:hover {\n",
              "    background-color: var(--hover-bg-color);\n",
              "    box-shadow: 0 1px 2px rgba(60, 64, 67, 0.3), 0 1px 3px 1px rgba(60, 64, 67, 0.15);\n",
              "    fill: var(--button-hover-fill-color);\n",
              "  }\n",
              "\n",
              "  .colab-df-quickchart-complete:disabled,\n",
              "  .colab-df-quickchart-complete:disabled:hover {\n",
              "    background-color: var(--disabled-bg-color);\n",
              "    fill: var(--disabled-fill-color);\n",
              "    box-shadow: none;\n",
              "  }\n",
              "\n",
              "  .colab-df-spinner {\n",
              "    border: 2px solid var(--fill-color);\n",
              "    border-color: transparent;\n",
              "    border-bottom-color: var(--fill-color);\n",
              "    animation:\n",
              "      spin 1s steps(1) infinite;\n",
              "  }\n",
              "\n",
              "  @keyframes spin {\n",
              "    0% {\n",
              "      border-color: transparent;\n",
              "      border-bottom-color: var(--fill-color);\n",
              "      border-left-color: var(--fill-color);\n",
              "    }\n",
              "    20% {\n",
              "      border-color: transparent;\n",
              "      border-left-color: var(--fill-color);\n",
              "      border-top-color: var(--fill-color);\n",
              "    }\n",
              "    30% {\n",
              "      border-color: transparent;\n",
              "      border-left-color: var(--fill-color);\n",
              "      border-top-color: var(--fill-color);\n",
              "      border-right-color: var(--fill-color);\n",
              "    }\n",
              "    40% {\n",
              "      border-color: transparent;\n",
              "      border-right-color: var(--fill-color);\n",
              "      border-top-color: var(--fill-color);\n",
              "    }\n",
              "    60% {\n",
              "      border-color: transparent;\n",
              "      border-right-color: var(--fill-color);\n",
              "    }\n",
              "    80% {\n",
              "      border-color: transparent;\n",
              "      border-right-color: var(--fill-color);\n",
              "      border-bottom-color: var(--fill-color);\n",
              "    }\n",
              "    90% {\n",
              "      border-color: transparent;\n",
              "      border-bottom-color: var(--fill-color);\n",
              "    }\n",
              "  }\n",
              "</style>\n",
              "\n",
              "  <script>\n",
              "    async function quickchart(key) {\n",
              "      const quickchartButtonEl =\n",
              "        document.querySelector('#' + key + ' button');\n",
              "      quickchartButtonEl.disabled = true;  // To prevent multiple clicks.\n",
              "      quickchartButtonEl.classList.add('colab-df-spinner');\n",
              "      try {\n",
              "        const charts = await google.colab.kernel.invokeFunction(\n",
              "            'suggestCharts', [key], {});\n",
              "      } catch (error) {\n",
              "        console.error('Error during call to suggestCharts:', error);\n",
              "      }\n",
              "      quickchartButtonEl.classList.remove('colab-df-spinner');\n",
              "      quickchartButtonEl.classList.add('colab-df-quickchart-complete');\n",
              "    }\n",
              "    (() => {\n",
              "      let quickchartButtonEl =\n",
              "        document.querySelector('#df-c3f16a4b-9ce7-4ad8-907e-b70f4eeef6ad button');\n",
              "      quickchartButtonEl.style.display =\n",
              "        google.colab.kernel.accessAllowed ? 'block' : 'none';\n",
              "    })();\n",
              "  </script>\n",
              "</div>\n",
              "    </div>\n",
              "  </div>\n"
            ],
            "application/vnd.google.colaboratory.intrinsic+json": {
              "type": "dataframe",
              "variable_name": "testset_df",
              "summary": "{\n  \"name\": \"testset_df\",\n  \"rows\": 60,\n  \"fields\": [\n    {\n      \"column\": \"File\",\n      \"properties\": {\n        \"dtype\": \"string\",\n        \"num_unique_values\": 60,\n        \"samples\": [\n          \"/content/drive/My Drive/dataset/limapuluh/IMG_5445.png\",\n          \"/content/drive/My Drive/dataset/seratus/IMG_5366.png\",\n          \"/content/drive/My Drive/dataset/limapuluh/IMG_5471.png\"\n        ],\n        \"semantic_type\": \"\",\n        \"description\": \"\"\n      }\n    },\n    {\n      \"column\": \"Label\",\n      \"properties\": {\n        \"dtype\": \"category\",\n        \"num_unique_values\": 2,\n        \"samples\": [\n          \"seratus\",\n          \"limapuluh\"\n        ],\n        \"semantic_type\": \"\",\n        \"description\": \"\"\n      }\n    }\n  ]\n}"
            }
          },
          "metadata": {},
          "execution_count": 26
        }
      ]
    },
    {
      "cell_type": "code",
      "source": [
        "# converting the Label to a numeric format for testing later...\n",
        "LE = LabelEncoder()\n",
        "\n",
        "y_test = LE.fit_transform(testset_df[\"Label\"])"
      ],
      "metadata": {
        "execution": {
          "iopub.status.busy": "2021-12-22T00:56:07.582971Z",
          "iopub.execute_input": "2021-12-22T00:56:07.583388Z",
          "iopub.status.idle": "2021-12-22T00:56:07.591534Z",
          "shell.execute_reply.started": "2021-12-22T00:56:07.583344Z",
          "shell.execute_reply": "2021-12-22T00:56:07.589872Z"
        },
        "trusted": true,
        "id": "dT7LLF5Rq3dH"
      },
      "execution_count": null,
      "outputs": []
    },
    {
      "cell_type": "code",
      "source": [
        "# Viewing data in training dataset\n",
        "print('Training Dataset:')\n",
        "\n",
        "print(f'Number of images: {trainset_df.shape[0]}')\n",
        "\n",
        "print(f'Number of images with limapuluh : {trainset_df[\"Label\"].value_counts()[0]}')\n",
        "print(f'Number of images with seratus: {trainset_df[\"Label\"].value_counts()[1]}\\n')\n",
        "\n",
        "# Viewing data in test dataset\n",
        "print('Test Dataset:')\n",
        "\n",
        "print(f'Number of images: {testset_df.shape[0]}')\n",
        "\n",
        "print(f'Number of images with limapuluh: {testset_df[\"Label\"].value_counts()[0]}')\n",
        "print(f'Number of images with seratus: {testset_df[\"Label\"].value_counts()[1]}\\n')"
      ],
      "metadata": {
        "execution": {
          "iopub.status.busy": "2021-12-22T00:56:07.593804Z",
          "iopub.execute_input": "2021-12-22T00:56:07.594137Z",
          "iopub.status.idle": "2021-12-22T00:56:07.626853Z",
          "shell.execute_reply.started": "2021-12-22T00:56:07.594107Z",
          "shell.execute_reply": "2021-12-22T00:56:07.626001Z"
        },
        "trusted": true,
        "id": "UMX-nbE9q3dH",
        "colab": {
          "base_uri": "https://localhost:8080/"
        },
        "outputId": "83fe3b5b-0ec0-4b72-a6f4-dcb306465894"
      },
      "execution_count": null,
      "outputs": [
        {
          "output_type": "stream",
          "name": "stdout",
          "text": [
            "Training Dataset:\n",
            "Number of images: 179\n",
            "Number of images with limapuluh : 99\n",
            "Number of images with seratus: 80\n",
            "\n",
            "Test Dataset:\n",
            "Number of images: 60\n",
            "Number of images with limapuluh: 38\n",
            "Number of images with seratus: 22\n",
            "\n"
          ]
        }
      ]
    },
    {
      "cell_type": "markdown",
      "source": [
        "## Generate Batch Images & Preparing Dataset"
      ],
      "metadata": {
        "id": "ghYv6pEmq3dH"
      }
    },
    {
      "cell_type": "code",
      "source": [
        "train_datagen = ImageDataGenerator(rescale = 1./255,\n",
        "                                    shear_range = 0.2,\n",
        "                                    zoom_range = 0.1,\n",
        "                                    rotation_range = 20,\n",
        "                                    width_shift_range = 0.1,\n",
        "                                    height_shift_range = 0.1,\n",
        "                                    horizontal_flip = True,\n",
        "                                    vertical_flip = True,\n",
        "                                    validation_split = 0.1)\n",
        "\n",
        "test_datagen = ImageDataGenerator(rescale = 1./255)"
      ],
      "metadata": {
        "execution": {
          "iopub.status.busy": "2021-12-22T00:56:07.628061Z",
          "iopub.execute_input": "2021-12-22T00:56:07.62864Z",
          "iopub.status.idle": "2021-12-22T00:56:07.636234Z",
          "shell.execute_reply.started": "2021-12-22T00:56:07.628596Z",
          "shell.execute_reply": "2021-12-22T00:56:07.63531Z"
        },
        "trusted": true,
        "id": "hp4J9M86q3dI"
      },
      "execution_count": null,
      "outputs": []
    },
    {
      "cell_type": "code",
      "source": [
        "print(\"Preparing the training dataset ...\")\n",
        "training_set = train_datagen.flow_from_dataframe(\n",
        "    dataframe = trainset_df,\n",
        "    x_col = \"File\",\n",
        "    y_col = \"Label\",\n",
        "    target_size = (75, 75),\n",
        "    color_mode = \"rgb\",\n",
        "    class_mode = \"binary\",\n",
        "    batch_size = 32,\n",
        "    shuffle = True,\n",
        "    seed = 2,\n",
        "    subset = \"training\")\n",
        "\n",
        "print(\"Preparing the validation dataset ...\")\n",
        "validation_set = train_datagen.flow_from_dataframe(\n",
        "    dataframe = trainset_df,\n",
        "    x_col = \"File\",\n",
        "    y_col = \"Label\",\n",
        "    target_size = (75, 75),\n",
        "    color_mode =\"rgb\",\n",
        "    class_mode = \"binary\",\n",
        "    batch_size = 32,\n",
        "    shuffle = True,\n",
        "    seed = 2,\n",
        "    subset = \"validation\")\n",
        "\n",
        "print(\"Preparing the test dataset ...\")\n",
        "test_set = test_datagen.flow_from_dataframe(\n",
        "    dataframe = testset_df,\n",
        "    x_col = \"File\",\n",
        "    y_col = \"Label\",\n",
        "    target_size = (75, 75),\n",
        "    color_mode =\"rgb\",\n",
        "    class_mode = \"binary\",\n",
        "    shuffle = False,\n",
        "    batch_size = 32)\n",
        "\n",
        "print('Data generators are ready!')"
      ],
      "metadata": {
        "execution": {
          "iopub.status.busy": "2021-12-22T00:56:07.637431Z",
          "iopub.execute_input": "2021-12-22T00:56:07.63781Z",
          "iopub.status.idle": "2021-12-22T00:56:12.200715Z",
          "shell.execute_reply.started": "2021-12-22T00:56:07.637744Z",
          "shell.execute_reply": "2021-12-22T00:56:12.19971Z"
        },
        "trusted": true,
        "id": "NVEu_bvIq3dI",
        "colab": {
          "base_uri": "https://localhost:8080/"
        },
        "outputId": "76324565-8a81-4f85-b8b4-c6c05f6179bd"
      },
      "execution_count": null,
      "outputs": [
        {
          "output_type": "stream",
          "name": "stdout",
          "text": [
            "Preparing the training dataset ...\n",
            "Found 162 validated image filenames belonging to 2 classes.\n",
            "Preparing the validation dataset ...\n",
            "Found 17 validated image filenames belonging to 2 classes.\n",
            "Preparing the test dataset ...\n",
            "Found 60 validated image filenames belonging to 2 classes.\n",
            "Data generators are ready!\n"
          ]
        }
      ]
    },
    {
      "cell_type": "code",
      "source": [
        "print(\"Training: \")\n",
        "print(training_set.class_indices)\n",
        "print(training_set.image_shape)\n",
        "print(\"---\" * 8)\n",
        "print(\"Validation: \")\n",
        "print(validation_set.class_indices)\n",
        "print(validation_set.image_shape)\n",
        "print(\"---\" * 8)\n",
        "print(\"Test: \")\n",
        "print(test_set.class_indices)\n",
        "print(test_set.image_shape)"
      ],
      "metadata": {
        "execution": {
          "iopub.status.busy": "2021-12-22T00:56:12.202125Z",
          "iopub.execute_input": "2021-12-22T00:56:12.202706Z",
          "iopub.status.idle": "2021-12-22T00:56:12.21303Z",
          "shell.execute_reply.started": "2021-12-22T00:56:12.20266Z",
          "shell.execute_reply": "2021-12-22T00:56:12.211662Z"
        },
        "trusted": true,
        "id": "hj5qpEzBq3dI",
        "colab": {
          "base_uri": "https://localhost:8080/"
        },
        "outputId": "757c3368-28cd-4a38-b8ce-ee521c8b8b84"
      },
      "execution_count": null,
      "outputs": [
        {
          "output_type": "stream",
          "name": "stdout",
          "text": [
            "Training: \n",
            "{'limapuluh': 0, 'seratus': 1}\n",
            "(75, 75, 3)\n",
            "------------------------\n",
            "Validation: \n",
            "{'limapuluh': 0, 'seratus': 1}\n",
            "(75, 75, 3)\n",
            "------------------------\n",
            "Test: \n",
            "{'limapuluh': 0, 'seratus': 1}\n",
            "(75, 75, 3)\n"
          ]
        }
      ]
    },
    {
      "cell_type": "code",
      "source": [
        "# Callbacks\n",
        "cb = [EarlyStopping(monitor = 'loss', mode = 'min', patience = 15, restore_best_weights = True)]"
      ],
      "metadata": {
        "execution": {
          "iopub.status.busy": "2021-12-22T00:56:12.214731Z",
          "iopub.execute_input": "2021-12-22T00:56:12.215315Z",
          "iopub.status.idle": "2021-12-22T00:56:12.222735Z",
          "shell.execute_reply.started": "2021-12-22T00:56:12.215267Z",
          "shell.execute_reply": "2021-12-22T00:56:12.221722Z"
        },
        "trusted": true,
        "id": "nWN6GMXKq3dI"
      },
      "execution_count": null,
      "outputs": []
    },
    {
      "cell_type": "markdown",
      "source": [
        "## Setup CNN Model"
      ],
      "metadata": {
        "id": "NEL8mSolq3dJ"
      }
    },
    {
      "cell_type": "markdown",
      "source": [
        "### 1-Convolution"
      ],
      "metadata": {
        "id": "ph4N-P02q3dJ"
      }
    },
    {
      "cell_type": "code",
      "source": [
        "CNN = Sequential()\n",
        "\n",
        "CNN.add(Conv2D(32, (3, 3), input_shape = (75, 75, 3), activation = 'relu'))\n",
        "CNN.add(BatchNormalization())"
      ],
      "metadata": {
        "execution": {
          "iopub.status.busy": "2021-12-22T00:56:12.224247Z",
          "iopub.execute_input": "2021-12-22T00:56:12.224638Z",
          "iopub.status.idle": "2021-12-22T00:56:12.336221Z",
          "shell.execute_reply.started": "2021-12-22T00:56:12.224594Z",
          "shell.execute_reply": "2021-12-22T00:56:12.334962Z"
        },
        "trusted": true,
        "id": "q9s1TOqiq3dJ"
      },
      "execution_count": null,
      "outputs": []
    },
    {
      "cell_type": "markdown",
      "source": [
        "### 2-Max Pooling"
      ],
      "metadata": {
        "id": "RRWr_Nbnq3dJ"
      }
    },
    {
      "cell_type": "code",
      "source": [
        "CNN.add(MaxPooling2D(pool_size = (2, 2)))"
      ],
      "metadata": {
        "execution": {
          "iopub.status.busy": "2021-12-22T00:56:12.337627Z",
          "iopub.execute_input": "2021-12-22T00:56:12.33797Z",
          "iopub.status.idle": "2021-12-22T00:56:12.349427Z",
          "shell.execute_reply.started": "2021-12-22T00:56:12.337934Z",
          "shell.execute_reply": "2021-12-22T00:56:12.348481Z"
        },
        "trusted": true,
        "id": "PSSx1mFhq3dJ"
      },
      "execution_count": null,
      "outputs": []
    },
    {
      "cell_type": "markdown",
      "source": [
        "### 3-Hidden Layers"
      ],
      "metadata": {
        "id": "2I8rptnYq3dK"
      }
    },
    {
      "cell_type": "code",
      "source": [
        "CNN.add(Conv2D(32, (3, 3), activation = 'relu'))\n",
        "CNN.add(MaxPooling2D(pool_size = (2, 2)))\n",
        "CNN.add(Conv2D(64, (3, 3), activation = 'relu'))\n",
        "CNN.add(SpatialDropout2D(0.2))\n",
        "CNN.add(MaxPooling2D(pool_size = (2, 2)))"
      ],
      "metadata": {
        "execution": {
          "iopub.status.busy": "2021-12-22T00:56:12.351457Z",
          "iopub.execute_input": "2021-12-22T00:56:12.351849Z",
          "iopub.status.idle": "2021-12-22T00:56:12.394512Z",
          "shell.execute_reply.started": "2021-12-22T00:56:12.351813Z",
          "shell.execute_reply": "2021-12-22T00:56:12.393391Z"
        },
        "trusted": true,
        "id": "shMAG5L0q3dK"
      },
      "execution_count": null,
      "outputs": []
    },
    {
      "cell_type": "markdown",
      "source": [
        "### 4-Flattening"
      ],
      "metadata": {
        "id": "9xR98tzVq3dK"
      }
    },
    {
      "cell_type": "code",
      "source": [
        "CNN.add(Flatten())"
      ],
      "metadata": {
        "execution": {
          "iopub.status.busy": "2021-12-22T00:56:12.395915Z",
          "iopub.execute_input": "2021-12-22T00:56:12.396204Z",
          "iopub.status.idle": "2021-12-22T00:56:12.405915Z",
          "shell.execute_reply.started": "2021-12-22T00:56:12.396176Z",
          "shell.execute_reply": "2021-12-22T00:56:12.404875Z"
        },
        "trusted": true,
        "id": "yhfclPR4q3dK"
      },
      "execution_count": null,
      "outputs": []
    },
    {
      "cell_type": "markdown",
      "source": [
        "### 5-Dense Neural Network"
      ],
      "metadata": {
        "id": "o4tbvXRNq3dK"
      }
    },
    {
      "cell_type": "code",
      "source": [
        "# Input layer\n",
        "CNN.add(Dense(units = 128, activation = 'relu'))\n",
        "CNN.add(Dropout(0.2))\n",
        "# Output layer (binary classification)\n",
        "CNN.add(Dense(units = 1, activation = 'sigmoid'))\n",
        "\n",
        "print(CNN.summary())"
      ],
      "metadata": {
        "execution": {
          "iopub.status.busy": "2021-12-22T00:56:12.407239Z",
          "iopub.execute_input": "2021-12-22T00:56:12.407559Z",
          "iopub.status.idle": "2021-12-22T00:56:12.449954Z",
          "shell.execute_reply.started": "2021-12-22T00:56:12.407529Z",
          "shell.execute_reply": "2021-12-22T00:56:12.448567Z"
        },
        "trusted": true,
        "id": "suGsCdA5q3dL",
        "colab": {
          "base_uri": "https://localhost:8080/"
        },
        "outputId": "d10b5e38-be1f-4a14-cbe9-32aaa9be8fc2"
      },
      "execution_count": null,
      "outputs": [
        {
          "output_type": "stream",
          "name": "stdout",
          "text": [
            "Model: \"sequential\"\n",
            "_________________________________________________________________\n",
            " Layer (type)                Output Shape              Param #   \n",
            "=================================================================\n",
            " conv2d (Conv2D)             (None, 73, 73, 32)        896       \n",
            "                                                                 \n",
            " batch_normalization (Batch  (None, 73, 73, 32)        128       \n",
            " Normalization)                                                  \n",
            "                                                                 \n",
            " max_pooling2d (MaxPooling2  (None, 36, 36, 32)        0         \n",
            " D)                                                              \n",
            "                                                                 \n",
            " conv2d_1 (Conv2D)           (None, 34, 34, 32)        9248      \n",
            "                                                                 \n",
            " max_pooling2d_1 (MaxPoolin  (None, 17, 17, 32)        0         \n",
            " g2D)                                                            \n",
            "                                                                 \n",
            " conv2d_2 (Conv2D)           (None, 15, 15, 64)        18496     \n",
            "                                                                 \n",
            " spatial_dropout2d (Spatial  (None, 15, 15, 64)        0         \n",
            " Dropout2D)                                                      \n",
            "                                                                 \n",
            " max_pooling2d_2 (MaxPoolin  (None, 7, 7, 64)          0         \n",
            " g2D)                                                            \n",
            "                                                                 \n",
            " flatten (Flatten)           (None, 3136)              0         \n",
            "                                                                 \n",
            " dense (Dense)               (None, 128)               401536    \n",
            "                                                                 \n",
            " dropout (Dropout)           (None, 128)               0         \n",
            "                                                                 \n",
            " dense_1 (Dense)             (None, 1)                 129       \n",
            "                                                                 \n",
            "=================================================================\n",
            "Total params: 430433 (1.64 MB)\n",
            "Trainable params: 430369 (1.64 MB)\n",
            "Non-trainable params: 64 (256.00 Byte)\n",
            "_________________________________________________________________\n",
            "None\n"
          ]
        }
      ]
    },
    {
      "cell_type": "markdown",
      "source": [
        "### 6-Model Compilation & Training"
      ],
      "metadata": {
        "id": "8zUuk6JIq3dL"
      }
    },
    {
      "cell_type": "code",
      "source": [
        "# Compile\n",
        "CNN.compile(optimizer='adam', loss = 'binary_crossentropy', metrics = ['accuracy'])\n",
        "\n",
        "# Start of counting time...\n",
        "start = dt.datetime.now()\n",
        "\n",
        "# Train\n",
        "CNN_model = CNN.fit(training_set, epochs = 3, validation_data = validation_set, callbacks = cb)\n",
        "\n",
        "# End of counting time...\n",
        "end = dt.datetime.now()\n",
        "time_CNN = end - start\n",
        "print ('\\nTraining and validation time is: ', time_CNN)"
      ],
      "metadata": {
        "execution": {
          "iopub.status.busy": "2021-12-22T00:56:12.966879Z",
          "iopub.execute_input": "2021-12-22T00:56:12.967375Z",
          "iopub.status.idle": "2021-12-22T01:04:35.505664Z",
          "shell.execute_reply.started": "2021-12-22T00:56:12.967339Z",
          "shell.execute_reply": "2021-12-22T01:04:35.504847Z"
        },
        "trusted": true,
        "id": "TdaVCQbAq3dL",
        "colab": {
          "base_uri": "https://localhost:8080/"
        },
        "outputId": "8971e04c-fa78-4584-d3f3-cb366fcfb31b"
      },
      "execution_count": null,
      "outputs": [
        {
          "output_type": "stream",
          "name": "stdout",
          "text": [
            "Epoch 1/3\n",
            "6/6 [==============================] - 97s 19s/step - loss: 0.7051 - accuracy: 0.5926 - val_loss: 0.7268 - val_accuracy: 0.4118\n",
            "Epoch 2/3\n",
            "6/6 [==============================] - 84s 14s/step - loss: 0.5289 - accuracy: 0.7716 - val_loss: 0.7252 - val_accuracy: 0.4118\n",
            "Epoch 3/3\n",
            "6/6 [==============================] - 68s 11s/step - loss: 0.5437 - accuracy: 0.7284 - val_loss: 0.7437 - val_accuracy: 0.4118\n",
            "\n",
            "Training and validation time is:  0:06:08.517117\n"
          ]
        }
      ]
    },
    {
      "cell_type": "markdown",
      "source": [
        "### 7-Model Training Report"
      ],
      "metadata": {
        "id": "foAxFWPGq3dM"
      }
    },
    {
      "cell_type": "code",
      "source": [
        "acc = CNN_model.history['accuracy']\n",
        "val_acc = CNN_model.history['val_accuracy']\n",
        "loss = CNN_model.history['loss']\n",
        "val_loss = CNN_model.history['val_loss']\n",
        "epochs = range(1, len(acc) + 1)\n",
        "\n",
        "plt.title('Training and validation accuracy')\n",
        "plt.plot(epochs, acc, 'red', label='Training acc')\n",
        "plt.plot(epochs, val_acc, 'green', label='Validation acc')\n",
        "plt.legend()\n",
        "\n",
        "plt.figure()\n",
        "plt.title('Training and validation loss')\n",
        "plt.plot(epochs, loss, 'red', label='Training loss')\n",
        "plt.plot(epochs, val_loss, 'green', label='Validation loss')\n",
        "\n",
        "plt.legend()\n",
        "plt.show()\n"
      ],
      "metadata": {
        "execution": {
          "iopub.status.busy": "2021-12-22T01:04:35.511329Z",
          "iopub.execute_input": "2021-12-22T01:04:35.513315Z",
          "iopub.status.idle": "2021-12-22T01:04:35.831695Z",
          "shell.execute_reply.started": "2021-12-22T01:04:35.511902Z",
          "shell.execute_reply": "2021-12-22T01:04:35.830702Z"
        },
        "trusted": true,
        "id": "nZ_sBX0Cq3dM",
        "colab": {
          "base_uri": "https://localhost:8080/",
          "height": 873
        },
        "outputId": "9ea679fd-c478-40d7-ef3a-d237d00ca016"
      },
      "execution_count": null,
      "outputs": [
        {
          "output_type": "display_data",
          "data": {
            "text/plain": [
              "<Figure size 640x480 with 1 Axes>"
            ],
            "image/png": "[encoded data removed]"
          },
          "metadata": {}
        },
        {
          "output_type": "display_data",
          "data": {
            "text/plain": [
              "<Figure size 640x480 with 1 Axes>"
            ],
            "image/png": "[encoded data removed]"
          },
          "metadata": {}
        }
      ]
    }
  ]
}