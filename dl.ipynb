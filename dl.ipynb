{
  "metadata": {
    "kernelspec": {
      "language": "python",
      "display_name": "Python 3",
      "name": "python3"
    },
    "language_info": {
      "pygments_lexer": "ipython3",
      "nbconvert_exporter": "python",
      "version": "3.6.4",
      "file_extension": ".py",
      "codemirror_mode": {
        "name": "ipython",
        "version": 3
      },
      "name": "python",
      "mimetype": "text/x-python"
    },
    "colab": {
      "provenance": []
    }
  },
  "nbformat_minor": 0,
  "nbformat": 4,
  "cells": [
    {
      "cell_type": "markdown",
      "source": [
        "## Import Library"
      ],
      "metadata": {
        "id": "Gk6iqHjQq3dB"
      }
    },
    {
      "cell_type": "code",
      "source": [
        "from google.colab import drive\n",
        "drive.mount('/content/drive')"
      ],
      "metadata": {
        "colab": {
          "base_uri": "https://localhost:8080/"
        },
        "id": "w9DTWwenrsAu",
        "outputId": "fa5a6acb-bdd7-4acf-c221-1db7e8e8ac3f"
      },
      "execution_count": null,
      "outputs": [
        {
          "output_type": "stream",
          "name": "stdout",
          "text": [
            "Mounted at /content/drive\n"
          ]
        }
      ]
    },
    {
      "cell_type": "code",
      "source": [
        "import pandas as pd\n",
        "import numpy as np\n",
        "import datetime as dt\n",
        "import os\n",
        "import os.path\n",
        "from pathlib import Path\n",
        "import glob\n",
        "import cv2\n",
        "import matplotlib.pyplot as plt\n",
        "import seaborn as sns\n",
        "from sklearn.model_selection import train_test_split\n",
        "from sklearn.preprocessing import LabelEncoder\n",
        "from tensorflow.keras.preprocessing.image import ImageDataGenerator, img_to_array, load_img\n",
        "from tensorflow.keras.callbacks import EarlyStopping\n",
        "from tensorflow.keras.models import Sequential\n",
        "from tensorflow.keras.layers import Conv2D, MaxPooling2D, Dropout, Flatten, Dense, BatchNormalization, GlobalAveragePooling2D, SpatialDropout2D\n",
        "from tensorflow.keras import layers\n",
        "from tensorflow.keras.applications.inception_v3 import InceptionV3\n",
        "from tensorflow.keras.applications.xception import Xception\n",
        "from tensorflow.keras.applications.vgg16 import VGG16\n",
        "from tensorflow.keras.applications.mobilenet import MobileNet\n",
        "from tensorflow.keras.optimizers import RMSprop\n",
        "from tensorflow.keras.models import Model\n",
        "from tensorflow.keras.utils import plot_model\n",
        "from sklearn.metrics import confusion_matrix, classification_report, recall_score, precision_score, f1_score, roc_auc_score, roc_curve\n",
        "from tensorflow.keras.preprocessing import image\n",
        "from PIL import Image"
      ],
      "metadata": {
        "_uuid": "8f2839f25d086af736a60e9eeb907d3b93b6e0e5",
        "_cell_guid": "b1076dfc-b9ad-4769-8c92-a6c4dae69d19",
        "execution": {
          "iopub.status.busy": "2021-12-22T00:55:30.757841Z",
          "iopub.execute_input": "2021-12-22T00:55:30.758367Z",
          "iopub.status.idle": "2021-12-22T00:55:38.762515Z",
          "shell.execute_reply.started": "2021-12-22T00:55:30.758246Z",
          "shell.execute_reply": "2021-12-22T00:55:38.761549Z"
        },
        "trusted": true,
        "id": "AKCpF9zfq3dC"
      },
      "execution_count": null,
      "outputs": []
    },
    {
      "cell_type": "markdown",
      "source": [
        "## Mapping Dataset"
      ],
      "metadata": {
        "id": "kTJ3s0xpq3dE"
      }
    },
    {
      "cell_type": "code",
      "source": [
        "# Selecting Dataset Folder Paths\n",
        "f_dir_ = Path('/content/drive/My Drive/dataset/duapuluh/')\n",
        "m_dir_ = Path('/content/drive/My Drive/dataset/limar/')\n",
        "femaleeyes_filepaths = list(f_dir_.glob(r'**/*.png'))\n",
        "maleeyes_filepaths = list(m_dir_.glob(r'**/*.png'))\n",
        "\n",
        "# Mapping the labels\n",
        "fm_labels = list(map(lambda x: os.path.split(os.path.split(x)[0])[1], femaleeyes_filepaths))\n",
        "ml_labels = list(map(lambda x: os.path.split(os.path.split(x)[0])[1], maleeyes_filepaths))\n",
        "\n",
        "# Paths & labels femalee eyes\n",
        "fm_filepaths = pd.Series(femaleeyes_filepaths, name = 'File').astype(str)\n",
        "fm_labels = pd.Series(fm_labels, name='Label')\n",
        "\n",
        "# Paths & labels malee eyes\n",
        "ml_filepaths = pd.Series(maleeyes_filepaths, name = 'File').astype(str)\n",
        "ml_labels = pd.Series(ml_labels, name='Label')\n",
        "\n",
        "# Concatenating...\n",
        "femaleeyes_df = pd.concat([fm_filepaths, fm_labels], axis=1)\n",
        "maleeyes_df = pd.concat([ml_filepaths, ml_labels], axis=1)\n",
        "\n",
        "df = pd.concat([femaleeyes_df, maleeyes_df])\n",
        "\n",
        "df = df.sample(frac = 1, random_state = 56).reset_index(drop = True)"
      ],
      "metadata": {
        "execution": {
          "iopub.status.busy": "2021-12-22T00:55:38.764138Z",
          "iopub.execute_input": "2021-12-22T00:55:38.764494Z",
          "iopub.status.idle": "2021-12-22T00:56:05.406199Z",
          "shell.execute_reply.started": "2021-12-22T00:55:38.764457Z",
          "shell.execute_reply": "2021-12-22T00:56:05.405304Z"
        },
        "trusted": true,
        "id": "yh6medziq3dE"
      },
      "execution_count": null,
      "outputs": []
    },
    {
      "cell_type": "code",
      "source": [
        "plt.style.use(\"seaborn-white\")"
      ],
      "metadata": {
        "execution": {
          "iopub.status.busy": "2021-12-22T00:56:05.408182Z",
          "iopub.execute_input": "2021-12-22T00:56:05.40865Z",
          "iopub.status.idle": "2021-12-22T00:56:05.41293Z",
          "shell.execute_reply.started": "2021-12-22T00:56:05.408595Z",
          "shell.execute_reply": "2021-12-22T00:56:05.412165Z"
        },
        "trusted": true,
        "colab": {
          "base_uri": "https://localhost:8080/"
        },
        "id": "JIkYm4zQq3dF",
        "outputId": "bb3c9823-4c02-43b9-dd8c-1facbd332f76"
      },
      "execution_count": null,
      "outputs": [
        {
          "output_type": "stream",
          "name": "stderr",
          "text": [
            "<ipython-input-4-41a971457199>:1: MatplotlibDeprecationWarning: The seaborn styles shipped by Matplotlib are deprecated since 3.6, as they no longer correspond to the styles shipped by seaborn. However, they will remain available as 'seaborn-v0_8-<style>'. Alternatively, directly use the seaborn API instead.\n",
            "  plt.style.use(\"seaborn-white\")\n"
          ]
        }
      ]
    },
    {
      "cell_type": "markdown",
      "source": [
        "## Observing Dataset"
      ],
      "metadata": {
        "id": "u3a2LvRGq3dF"
      }
    },
    {
      "cell_type": "code",
      "source": [
        "figure = plt.figure(figsize=(2,2))\n",
        "x = plt.imread(df[\"File\"][50])\n",
        "plt.imshow(x)\n",
        "plt.xlabel(x.shape)\n",
        "plt.title(df[\"Label\"][50])"
      ],
      "metadata": {
        "execution": {
          "iopub.status.busy": "2021-12-22T00:56:05.606526Z",
          "iopub.execute_input": "2021-12-22T00:56:05.606947Z",
          "iopub.status.idle": "2021-12-22T00:56:05.761388Z",
          "shell.execute_reply.started": "2021-12-22T00:56:05.606916Z",
          "shell.execute_reply": "2021-12-22T00:56:05.760164Z"
        },
        "trusted": true,
        "id": "T0w1dAvPq3dF"
      },
      "execution_count": null,
      "outputs": []
    },
    {
      "cell_type": "markdown",
      "source": [
        "## Split Dataset"
      ],
      "metadata": {
        "id": "KtqccRZ0q3dG"
      }
    },
    {
      "cell_type": "code",
      "source": [
        "trainset_df, testset_df = train_test_split(df, train_size = 0.75, random_state = 4)\n",
        "\n",
        "display(trainset_df.head())\n",
        "\n",
        "testset_df.head()"
      ],
      "metadata": {
        "execution": {
          "iopub.status.busy": "2021-12-22T00:56:07.552041Z",
          "iopub.execute_input": "2021-12-22T00:56:07.552329Z",
          "iopub.status.idle": "2021-12-22T00:56:07.581235Z",
          "shell.execute_reply.started": "2021-12-22T00:56:07.552302Z",
          "shell.execute_reply": "2021-12-22T00:56:07.579677Z"
        },
        "trusted": true,
        "id": "lN6PYtoLq3dG"
      },
      "execution_count": null,
      "outputs": []
    },
    {
      "cell_type": "code",
      "source": [
        "# converting the Label to a numeric format for testing later...\n",
        "LE = LabelEncoder()\n",
        "\n",
        "y_test = LE.fit_transform(testset_df[\"Label\"])"
      ],
      "metadata": {
        "execution": {
          "iopub.status.busy": "2021-12-22T00:56:07.582971Z",
          "iopub.execute_input": "2021-12-22T00:56:07.583388Z",
          "iopub.status.idle": "2021-12-22T00:56:07.591534Z",
          "shell.execute_reply.started": "2021-12-22T00:56:07.583344Z",
          "shell.execute_reply": "2021-12-22T00:56:07.589872Z"
        },
        "trusted": true,
        "id": "dT7LLF5Rq3dH"
      },
      "execution_count": null,
      "outputs": []
    },
    {
      "cell_type": "code",
      "source": [
        "# Viewing data in training dataset\n",
        "print('Training Dataset:')\n",
        "\n",
        "print(f'Number of images: {trainset_df.shape[0]}')\n",
        "\n",
        "print(f'Number of images with duapuluh : {trainset_df[\"Label\"].value_counts()[0]}')\n",
        "print(f'Number of images with lima: {trainset_df[\"Label\"].value_counts()[1]}\\n')\n",
        "\n",
        "# Viewing data in test dataset\n",
        "print('Test Dataset:')\n",
        "\n",
        "print(f'Number of images: {testset_df.shape[0]}')\n",
        "\n",
        "print(f'Number of images with duaribu: {testset_df[\"Label\"].value_counts()[0]}')\n",
        "print(f'Number of images with tujuhlimaribu: {testset_df[\"Label\"].value_counts()[1]}\\n')"
      ],
      "metadata": {
        "execution": {
          "iopub.status.busy": "2021-12-22T00:56:07.593804Z",
          "iopub.execute_input": "2021-12-22T00:56:07.594137Z",
          "iopub.status.idle": "2021-12-22T00:56:07.626853Z",
          "shell.execute_reply.started": "2021-12-22T00:56:07.594107Z",
          "shell.execute_reply": "2021-12-22T00:56:07.626001Z"
        },
        "trusted": true,
        "id": "UMX-nbE9q3dH"
      },
      "execution_count": null,
      "outputs": []
    },
    {
      "cell_type": "markdown",
      "source": [
        "## Generate Batch Images & Preparing Dataset"
      ],
      "metadata": {
        "id": "ghYv6pEmq3dH"
      }
    },
    {
      "cell_type": "code",
      "source": [
        "train_datagen = ImageDataGenerator(rescale = 1./255,\n",
        "                                    shear_range = 0.2,\n",
        "                                    zoom_range = 0.1,\n",
        "                                    rotation_range = 20,\n",
        "                                    width_shift_range = 0.1,\n",
        "                                    height_shift_range = 0.1,\n",
        "                                    horizontal_flip = True,\n",
        "                                    vertical_flip = True,\n",
        "                                    validation_split = 0.1)\n",
        "\n",
        "test_datagen = ImageDataGenerator(rescale = 1./255)"
      ],
      "metadata": {
        "execution": {
          "iopub.status.busy": "2021-12-22T00:56:07.628061Z",
          "iopub.execute_input": "2021-12-22T00:56:07.62864Z",
          "iopub.status.idle": "2021-12-22T00:56:07.636234Z",
          "shell.execute_reply.started": "2021-12-22T00:56:07.628596Z",
          "shell.execute_reply": "2021-12-22T00:56:07.63531Z"
        },
        "trusted": true,
        "id": "hp4J9M86q3dI"
      },
      "execution_count": null,
      "outputs": []
    },
    {
      "cell_type": "code",
      "source": [
        "print(\"Preparing the training dataset ...\")\n",
        "training_set = train_datagen.flow_from_dataframe(\n",
        "    dataframe = trainset_df,\n",
        "    x_col = \"File\",\n",
        "    y_col = \"Label\",\n",
        "    target_size = (75, 75),\n",
        "    color_mode = \"rgb\",\n",
        "    class_mode = \"binary\",\n",
        "    batch_size = 32,\n",
        "    shuffle = True,\n",
        "    seed = 2,\n",
        "    subset = \"training\")\n",
        "\n",
        "print(\"Preparing the validation dataset ...\")\n",
        "validation_set = train_datagen.flow_from_dataframe(\n",
        "    dataframe = trainset_df,\n",
        "    x_col = \"File\",\n",
        "    y_col = \"Label\",\n",
        "    target_size = (75, 75),\n",
        "    color_mode =\"rgb\",\n",
        "    class_mode = \"binary\",\n",
        "    batch_size = 32,\n",
        "    shuffle = True,\n",
        "    seed = 2,\n",
        "    subset = \"validation\")\n",
        "\n",
        "print(\"Preparing the test dataset ...\")\n",
        "test_set = test_datagen.flow_from_dataframe(\n",
        "    dataframe = testset_df,\n",
        "    x_col = \"File\",\n",
        "    y_col = \"Label\",\n",
        "    target_size = (75, 75),\n",
        "    color_mode =\"rgb\",\n",
        "    class_mode = \"binary\",\n",
        "    shuffle = False,\n",
        "    batch_size = 32)\n",
        "\n",
        "print('Data generators are ready!')"
      ],
      "metadata": {
        "execution": {
          "iopub.status.busy": "2021-12-22T00:56:07.637431Z",
          "iopub.execute_input": "2021-12-22T00:56:07.63781Z",
          "iopub.status.idle": "2021-12-22T00:56:12.200715Z",
          "shell.execute_reply.started": "2021-12-22T00:56:07.637744Z",
          "shell.execute_reply": "2021-12-22T00:56:12.19971Z"
        },
        "trusted": true,
        "id": "NVEu_bvIq3dI",
        "colab": {
          "base_uri": "https://localhost:8080/"
        },
        "outputId": "4b89d31d-31bd-45b1-b061-521bdaff3cbc"
      },
      "execution_count": null,
      "outputs": [
        {
          "output_type": "stream",
          "name": "stdout",
          "text": [
            "Preparing the training dataset ...\n",
            "Found 162 validated image filenames belonging to 2 classes.\n",
            "Preparing the validation dataset ...\n",
            "Found 17 validated image filenames belonging to 2 classes.\n",
            "Preparing the test dataset ...\n",
            "Found 60 validated image filenames belonging to 2 classes.\n",
            "Data generators are ready!\n"
          ]
        }
      ]
    },
    {
      "cell_type": "code",
      "source": [
        "print(\"Training: \")\n",
        "print(training_set.class_indices)\n",
        "print(training_set.image_shape)\n",
        "print(\"---\" * 8)\n",
        "print(\"Validation: \")\n",
        "print(validation_set.class_indices)\n",
        "print(validation_set.image_shape)\n",
        "print(\"---\" * 8)\n",
        "print(\"Test: \")\n",
        "print(test_set.class_indices)\n",
        "print(test_set.image_shape)"
      ],
      "metadata": {
        "execution": {
          "iopub.status.busy": "2021-12-22T00:56:12.202125Z",
          "iopub.execute_input": "2021-12-22T00:56:12.202706Z",
          "iopub.status.idle": "2021-12-22T00:56:12.21303Z",
          "shell.execute_reply.started": "2021-12-22T00:56:12.20266Z",
          "shell.execute_reply": "2021-12-22T00:56:12.211662Z"
        },
        "trusted": true,
        "id": "hj5qpEzBq3dI"
      },
      "execution_count": null,
      "outputs": []
    },
    {
      "cell_type": "code",
      "source": [
        "# Callbacks\n",
        "cb = [EarlyStopping(monitor = 'loss', mode = 'min', patience = 15, restore_best_weights = True)]"
      ],
      "metadata": {
        "execution": {
          "iopub.status.busy": "2021-12-22T00:56:12.214731Z",
          "iopub.execute_input": "2021-12-22T00:56:12.215315Z",
          "iopub.status.idle": "2021-12-22T00:56:12.222735Z",
          "shell.execute_reply.started": "2021-12-22T00:56:12.215267Z",
          "shell.execute_reply": "2021-12-22T00:56:12.221722Z"
        },
        "trusted": true,
        "id": "nWN6GMXKq3dI"
      },
      "execution_count": null,
      "outputs": []
    },
    {
      "cell_type": "markdown",
      "source": [
        "## Setup CNN Model"
      ],
      "metadata": {
        "id": "NEL8mSolq3dJ"
      }
    },
    {
      "cell_type": "markdown",
      "source": [
        "### 1-Convolution"
      ],
      "metadata": {
        "id": "ph4N-P02q3dJ"
      }
    },
    {
      "cell_type": "code",
      "source": [
        "CNN = Sequential()\n",
        "\n",
        "CNN.add(Conv2D(32, (3, 3), input_shape = (75, 75, 3), activation = 'relu'))\n",
        "CNN.add(BatchNormalization())"
      ],
      "metadata": {
        "execution": {
          "iopub.status.busy": "2021-12-22T00:56:12.224247Z",
          "iopub.execute_input": "2021-12-22T00:56:12.224638Z",
          "iopub.status.idle": "2021-12-22T00:56:12.336221Z",
          "shell.execute_reply.started": "2021-12-22T00:56:12.224594Z",
          "shell.execute_reply": "2021-12-22T00:56:12.334962Z"
        },
        "trusted": true,
        "id": "q9s1TOqiq3dJ"
      },
      "execution_count": null,
      "outputs": []
    },
    {
      "cell_type": "markdown",
      "source": [
        "### 2-Max Pooling"
      ],
      "metadata": {
        "id": "RRWr_Nbnq3dJ"
      }
    },
    {
      "cell_type": "code",
      "source": [
        "CNN.add(MaxPooling2D(pool_size = (2, 2)))"
      ],
      "metadata": {
        "execution": {
          "iopub.status.busy": "2021-12-22T00:56:12.337627Z",
          "iopub.execute_input": "2021-12-22T00:56:12.33797Z",
          "iopub.status.idle": "2021-12-22T00:56:12.349427Z",
          "shell.execute_reply.started": "2021-12-22T00:56:12.337934Z",
          "shell.execute_reply": "2021-12-22T00:56:12.348481Z"
        },
        "trusted": true,
        "id": "PSSx1mFhq3dJ"
      },
      "execution_count": null,
      "outputs": []
    },
    {
      "cell_type": "markdown",
      "source": [
        "### 3-Hidden Layers"
      ],
      "metadata": {
        "id": "2I8rptnYq3dK"
      }
    },
    {
      "cell_type": "code",
      "source": [
        "CNN.add(Conv2D(32, (3, 3), activation = 'relu'))\n",
        "CNN.add(MaxPooling2D(pool_size = (2, 2)))\n",
        "CNN.add(Conv2D(64, (3, 3), activation = 'relu'))\n",
        "CNN.add(SpatialDropout2D(0.2))\n",
        "CNN.add(MaxPooling2D(pool_size = (2, 2)))"
      ],
      "metadata": {
        "execution": {
          "iopub.status.busy": "2021-12-22T00:56:12.351457Z",
          "iopub.execute_input": "2021-12-22T00:56:12.351849Z",
          "iopub.status.idle": "2021-12-22T00:56:12.394512Z",
          "shell.execute_reply.started": "2021-12-22T00:56:12.351813Z",
          "shell.execute_reply": "2021-12-22T00:56:12.393391Z"
        },
        "trusted": true,
        "id": "shMAG5L0q3dK"
      },
      "execution_count": null,
      "outputs": []
    },
    {
      "cell_type": "markdown",
      "source": [
        "### 4-Flattening"
      ],
      "metadata": {
        "id": "9xR98tzVq3dK"
      }
    },
    {
      "cell_type": "code",
      "source": [
        "CNN.add(Flatten())"
      ],
      "metadata": {
        "execution": {
          "iopub.status.busy": "2021-12-22T00:56:12.395915Z",
          "iopub.execute_input": "2021-12-22T00:56:12.396204Z",
          "iopub.status.idle": "2021-12-22T00:56:12.405915Z",
          "shell.execute_reply.started": "2021-12-22T00:56:12.396176Z",
          "shell.execute_reply": "2021-12-22T00:56:12.404875Z"
        },
        "trusted": true,
        "id": "yhfclPR4q3dK"
      },
      "execution_count": null,
      "outputs": []
    },
    {
      "cell_type": "markdown",
      "source": [
        "### 5-Dense Neural Network"
      ],
      "metadata": {
        "id": "o4tbvXRNq3dK"
      }
    },
    {
      "cell_type": "code",
      "source": [
        "# Input layer\n",
        "CNN.add(Dense(units = 128, activation = 'relu'))\n",
        "CNN.add(Dropout(0.2))\n",
        "# Output layer (binary classification)\n",
        "CNN.add(Dense(units = 1, activation = 'sigmoid'))\n",
        "\n",
        "print(CNN.summary())"
      ],
      "metadata": {
        "execution": {
          "iopub.status.busy": "2021-12-22T00:56:12.407239Z",
          "iopub.execute_input": "2021-12-22T00:56:12.407559Z",
          "iopub.status.idle": "2021-12-22T00:56:12.449954Z",
          "shell.execute_reply.started": "2021-12-22T00:56:12.407529Z",
          "shell.execute_reply": "2021-12-22T00:56:12.448567Z"
        },
        "trusted": true,
        "id": "suGsCdA5q3dL",
        "colab": {
          "base_uri": "https://localhost:8080/"
        },
        "outputId": "df251448-eb90-4a8c-9be1-6fdc8529367e"
      },
      "execution_count": null,
      "outputs": [
        {
          "output_type": "stream",
          "name": "stdout",
          "text": [
            "Model: \"sequential\"\n",
            "_________________________________________________________________\n",
            " Layer (type)                Output Shape              Param #   \n",
            "=================================================================\n",
            " conv2d (Conv2D)             (None, 73, 73, 32)        896       \n",
            "                                                                 \n",
            " batch_normalization (Batch  (None, 73, 73, 32)        128       \n",
            " Normalization)                                                  \n",
            "                                                                 \n",
            " max_pooling2d (MaxPooling2  (None, 36, 36, 32)        0         \n",
            " D)                                                              \n",
            "                                                                 \n",
            " conv2d_1 (Conv2D)           (None, 34, 34, 32)        9248      \n",
            "                                                                 \n",
            " max_pooling2d_1 (MaxPoolin  (None, 17, 17, 32)        0         \n",
            " g2D)                                                            \n",
            "                                                                 \n",
            " conv2d_2 (Conv2D)           (None, 15, 15, 64)        18496     \n",
            "                                                                 \n",
            " spatial_dropout2d (Spatial  (None, 15, 15, 64)        0         \n",
            " Dropout2D)                                                      \n",
            "                                                                 \n",
            " max_pooling2d_2 (MaxPoolin  (None, 7, 7, 64)          0         \n",
            " g2D)                                                            \n",
            "                                                                 \n",
            " flatten (Flatten)           (None, 3136)              0         \n",
            "                                                                 \n",
            " dense (Dense)               (None, 128)               401536    \n",
            "                                                                 \n",
            " dropout (Dropout)           (None, 128)               0         \n",
            "                                                                 \n",
            " dense_1 (Dense)             (None, 1)                 129       \n",
            "                                                                 \n",
            "=================================================================\n",
            "Total params: 430433 (1.64 MB)\n",
            "Trainable params: 430369 (1.64 MB)\n",
            "Non-trainable params: 64 (256.00 Byte)\n",
            "_________________________________________________________________\n",
            "None\n"
          ]
        }
      ]
    },
    {
      "cell_type": "markdown",
      "source": [
        "### 6-Model Compilation & Training"
      ],
      "metadata": {
        "id": "8zUuk6JIq3dL"
      }
    },
    {
      "cell_type": "code",
      "source": [
        "# Compile\n",
        "CNN.compile(optimizer='adam', loss = 'binary_crossentropy', metrics = ['accuracy'])\n",
        "\n",
        "# Start of counting time...\n",
        "start = dt.datetime.now()\n",
        "\n",
        "# Train\n",
        "CNN_model = CNN.fit(training_set, epochs = 10, validation_data = validation_set, callbacks = cb)\n",
        "\n",
        "# End of counting time...\n",
        "end = dt.datetime.now()\n",
        "time_CNN = end - start\n",
        "print ('\\nTraining and validation time is: ', time_CNN)"
      ],
      "metadata": {
        "execution": {
          "iopub.status.busy": "2021-12-22T00:56:12.966879Z",
          "iopub.execute_input": "2021-12-22T00:56:12.967375Z",
          "iopub.status.idle": "2021-12-22T01:04:35.505664Z",
          "shell.execute_reply.started": "2021-12-22T00:56:12.967339Z",
          "shell.execute_reply": "2021-12-22T01:04:35.504847Z"
        },
        "trusted": true,
        "id": "TdaVCQbAq3dL",
        "colab": {
          "base_uri": "https://localhost:8080/"
        },
        "outputId": "b5f7ceee-9bed-4251-b9b4-7cfaf525b6b1"
      },
      "execution_count": null,
      "outputs": [
        {
          "output_type": "stream",
          "name": "stdout",
          "text": [
            "Epoch 1/10\n",
            "6/6 [==============================] - 84s 16s/step - loss: 0.9410 - accuracy: 0.5926 - val_loss: 0.6961 - val_accuracy: 0.4118\n",
            "Epoch 2/10\n",
            "6/6 [==============================] - 74s 12s/step - loss: 0.6260 - accuracy: 0.6358 - val_loss: 0.6878 - val_accuracy: 0.6471\n",
            "Epoch 3/10\n",
            "6/6 [==============================] - 70s 12s/step - loss: 0.4119 - accuracy: 0.8827 - val_loss: 0.6934 - val_accuracy: 0.4118\n",
            "Epoch 4/10\n",
            "6/6 [==============================] - 69s 11s/step - loss: 0.1549 - accuracy: 0.9753 - val_loss: 0.6567 - val_accuracy: 0.4706\n",
            "Epoch 5/10\n",
            "6/6 [==============================] - 66s 11s/step - loss: 0.0330 - accuracy: 0.9938 - val_loss: 0.7534 - val_accuracy: 0.4118\n",
            "Epoch 6/10\n",
            "6/6 [==============================] - 66s 11s/step - loss: 0.3537 - accuracy: 0.9198 - val_loss: 0.5855 - val_accuracy: 0.8235\n",
            "Epoch 7/10\n",
            "6/6 [==============================] - 65s 13s/step - loss: 0.4491 - accuracy: 0.8704 - val_loss: 0.6687 - val_accuracy: 0.4118\n",
            "Epoch 8/10\n",
            "6/6 [==============================] - 69s 11s/step - loss: 0.1586 - accuracy: 0.9198 - val_loss: 0.6577 - val_accuracy: 0.4118\n",
            "Epoch 9/10\n",
            "6/6 [==============================] - 77s 15s/step - loss: 0.0332 - accuracy: 0.9877 - val_loss: 0.7236 - val_accuracy: 0.4118\n",
            "Epoch 10/10\n",
            "6/6 [==============================] - 72s 12s/step - loss: 0.0477 - accuracy: 0.9815 - val_loss: 0.7912 - val_accuracy: 0.4118\n",
            "\n",
            "Training and validation time is:  0:14:01.783762\n"
          ]
        }
      ]
    },
    {
      "cell_type": "markdown",
      "source": [
        "### 7-Model Training Report"
      ],
      "metadata": {
        "id": "foAxFWPGq3dM"
      }
    },
    {
      "cell_type": "code",
      "source": [
        "acc = CNN_model.history['accuracy']\n",
        "val_acc = CNN_model.history['val_accuracy']\n",
        "loss = CNN_model.history['loss']\n",
        "val_loss = CNN_model.history['val_loss']\n",
        "epochs = range(1, len(acc) + 1)\n",
        "\n",
        "plt.title('Training and validation accuracy')\n",
        "plt.plot(epochs, acc, 'red', label='Training acc')\n",
        "plt.plot(epochs, val_acc, 'green', label='Validation acc')\n",
        "plt.legend()\n",
        "\n",
        "plt.figure()\n",
        "plt.title('Training and validation loss')\n",
        "plt.plot(epochs, loss, 'red', label='Training loss')\n",
        "plt.plot(epochs, val_loss, 'green', label='Validation loss')\n",
        "\n",
        "plt.legend()\n",
        "plt.show()\n"
      ],
      "metadata": {
        "execution": {
          "iopub.status.busy": "2021-12-22T01:04:35.511329Z",
          "iopub.execute_input": "2021-12-22T01:04:35.513315Z",
          "iopub.status.idle": "2021-12-22T01:04:35.831695Z",
          "shell.execute_reply.started": "2021-12-22T01:04:35.511902Z",
          "shell.execute_reply": "2021-12-22T01:04:35.830702Z"
        },
        "trusted": true,
        "id": "nZ_sBX0Cq3dM"
      },
      "execution_count": null,
      "outputs": []
    },
    {
      "cell_type": "code",
      "source": [
        "score_CNN = CNN.evaluate(test_set)\n",
        "print(\"Test Loss:\", score_CNN[0])\n",
        "print(\"Test Accuracy:\", score_CNN[1])"
      ],
      "metadata": {
        "execution": {
          "iopub.status.busy": "2021-12-22T01:04:35.833475Z",
          "iopub.execute_input": "2021-12-22T01:04:35.833961Z",
          "iopub.status.idle": "2021-12-22T01:04:59.277607Z",
          "shell.execute_reply.started": "2021-12-22T01:04:35.833916Z",
          "shell.execute_reply": "2021-12-22T01:04:59.276656Z"
        },
        "trusted": true,
        "id": "me4Y_fhrq3dM",
        "colab": {
          "base_uri": "https://localhost:8080/"
        },
        "outputId": "ea1671dd-f843-4011-f2ee-2956dd839159"
      },
      "execution_count": null,
      "outputs": [
        {
          "output_type": "stream",
          "name": "stdout",
          "text": [
            "2/2 [==============================] - 29s 15s/step - loss: 0.7946 - accuracy: 0.3667\n",
            "Test Loss: 0.794626772403717\n",
            "Test Accuracy: 0.36666667461395264\n"
          ]
        }
      ]
    },
    {
      "cell_type": "code",
      "source": [
        "y_pred_CNN = CNN.predict(test_set)\n",
        "y_pred_CNN = np.round(y_pred_CNN)\n",
        "\n",
        "recall_CNN = recall_score(y_test, y_pred_CNN)\n",
        "precision_CNN = precision_score(y_test, y_pred_CNN)\n",
        "f1_CNN = f1_score(y_test, y_pred_CNN)\n",
        "roc_CNN = roc_auc_score(y_test, y_pred_CNN)"
      ],
      "metadata": {
        "execution": {
          "iopub.status.busy": "2021-12-22T01:04:59.279222Z",
          "iopub.execute_input": "2021-12-22T01:04:59.279675Z",
          "iopub.status.idle": "2021-12-22T01:05:03.782109Z",
          "shell.execute_reply.started": "2021-12-22T01:04:59.279636Z",
          "shell.execute_reply": "2021-12-22T01:05:03.781274Z"
        },
        "trusted": true,
        "id": "kpheQBNcq3dM",
        "colab": {
          "base_uri": "https://localhost:8080/"
        },
        "outputId": "40296256-4a01-432d-9abb-57ff66c7e9c5"
      },
      "execution_count": null,
      "outputs": [
        {
          "output_type": "stream",
          "name": "stdout",
          "text": [
            "2/2 [==============================] - 22s 10s/step\n"
          ]
        }
      ]
    }
  ]
}